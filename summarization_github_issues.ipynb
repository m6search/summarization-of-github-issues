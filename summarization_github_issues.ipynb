{
  "cells": [
    {
      "cell_type": "markdown",
      "source": [
        "Full name: ***Moldir Koishybayeva*** <br>\n",
        "Course name: ***Machine Learning for MDE***<br>\n",
        "\n",
        "<h1 align=\"center\"> <font color=#F9AB00><b><i>Summarization of GitHub Issues</font></h4>"
      ],
      "metadata": {
        "id": "P1U7wQMki_FZ"
      },
      "id": "P1U7wQMki_FZ"
    },
    {
      "cell_type": "markdown",
      "source": [
        "*This work was created in Google Colab.*<br>\n",
        "*It will be appreciated if this platform will be used when running the code.*"
      ],
      "metadata": {
        "id": "K-024U7iiw_T"
      },
      "id": "K-024U7iiw_T"
    },
    {
      "cell_type": "markdown",
      "source": [
        "##**Importing Necessary Packages**"
      ],
      "metadata": {
        "id": "yy-250c4oPUr"
      },
      "id": "yy-250c4oPUr"
    },
    {
      "cell_type": "code",
      "source": [
        "from google.colab import output\n",
        "!pip install transformers==4.2.0\n",
        "!pip install torch==1.4.0\n",
        "!pip install sentencepiece\n",
        "!pip install datasets\n",
        "!pip install sacrebleu\n",
        "output.clear()"
      ],
      "metadata": {
        "id": "eu6omvIhLLoG"
      },
      "id": "eu6omvIhLLoG",
      "execution_count": 1,
      "outputs": []
    },
    {
      "cell_type": "code",
      "source": [
        "from google.colab import drive\n",
        "import pandas as pd\n",
        "import argparse\n",
        "import json, re\n",
        "import random\n",
        "import copy\n",
        "import nltk\n",
        "import torch\n",
        "from transformers import AutoTokenizer, BartForConditionalGeneration\n",
        "from transformers import T5Tokenizer, T5ForConditionalGeneration, T5Config\n",
        "from transformers import BertForMaskedLM, AutoTokenizer\n",
        "from sklearn.model_selection import train_test_split\n",
        "from torch.utils.data import TensorDataset\n",
        "from datasets import load_metric\n",
        "import numpy as np"
      ],
      "metadata": {
        "id": "3hOI-_lXj4Hr"
      },
      "id": "3hOI-_lXj4Hr",
      "execution_count": 43,
      "outputs": []
    },
    {
      "cell_type": "markdown",
      "source": [
        "##**Data Preprocessing**"
      ],
      "metadata": {
        "id": "w1Fu9-99K6ca"
      },
      "id": "w1Fu9-99K6ca"
    },
    {
      "cell_type": "code",
      "source": [
        "# Mount Google Drive to the Colab notebook\n",
        "drive.mount('/content/drive')\n",
        "\n",
        "# Navigate to the folder where the data is stored in Google Drive\n",
        "%cd /content/drive/My Drive/trial\n",
        "\n",
        "# Load the data from a file in Google Drive\n",
        "try:\n",
        "    data = pd.read_json('raw_922730issues_reponobodytitle.json')\n",
        "    print(\"Data loaded successfully.\")\n",
        "except:\n",
        "    print('Please re-upload the correct file.')\n"
      ],
      "metadata": {
        "colab": {
          "base_uri": "https://localhost:8080/"
        },
        "id": "PkbumENDo6TU",
        "outputId": "eee8dd28-7db9-40c1-8540-553a9e549d19"
      },
      "id": "PkbumENDo6TU",
      "execution_count": 3,
      "outputs": [
        {
          "output_type": "stream",
          "name": "stdout",
          "text": [
            "Drive already mounted at /content/drive; to attempt to forcibly remount, call drive.mount(\"/content/drive\", force_remount=True).\n",
            "/content/drive/My Drive/trial\n",
            "Data loaded successfully.\n"
          ]
        }
      ]
    },
    {
      "cell_type": "code",
      "source": [
        "data.info()"
      ],
      "metadata": {
        "colab": {
          "base_uri": "https://localhost:8080/"
        },
        "id": "gYyS_2YpkSgN",
        "outputId": "533f7c90-ad04-48ca-9646-ddffdbc3dc1c"
      },
      "id": "gYyS_2YpkSgN",
      "execution_count": 4,
      "outputs": [
        {
          "output_type": "stream",
          "name": "stdout",
          "text": [
            "<class 'pandas.core.frame.DataFrame'>\n",
            "RangeIndex: 922730 entries, 0 to 922729\n",
            "Data columns (total 4 columns):\n",
            " #   Column  Non-Null Count   Dtype \n",
            "---  ------  --------------   ----- \n",
            " 0   number  922730 non-null  int64 \n",
            " 1   title   922730 non-null  object\n",
            " 2   body    922730 non-null  object\n",
            " 3   repo    922730 non-null  object\n",
            "dtypes: int64(1), object(3)\n",
            "memory usage: 28.2+ MB\n"
          ]
        }
      ]
    },
    {
      "cell_type": "code",
      "source": [
        "data.head()"
      ],
      "metadata": {
        "colab": {
          "base_uri": "https://localhost:8080/",
          "height": 337
        },
        "id": "GWDKSfnQbmeJ",
        "outputId": "7b3826eb-b07a-4654-926e-953fa09b1ea0"
      },
      "id": "GWDKSfnQbmeJ",
      "execution_count": 5,
      "outputs": [
        {
          "output_type": "execute_result",
          "data": {
            "text/plain": [
              "   number                                              title  \\\n",
              "0   35557  Add test to disallow extra characters in Appli...   \n",
              "1   14968                Running pytorch 1.0.0 on aws lambda   \n",
              "2   18448  Uncaught TypeError: Cannot read property 'endI...   \n",
              "3   37086   Ability to enable/disable replication controller   \n",
              "4    5531  [gatsby-plugin-sharp] Support Default Configur...   \n",
              "\n",
              "                                                body  \\\n",
              "0  In the challenge [Applied Accessibility: Stand...   \n",
              "1  ## ❓ Questions and Help\\r\\n\\r\\nHello,\\r\\n\\r\\nI...   \n",
              "2  [Enter steps to reproduce:]\\r\\n\\r\\n1. ...\\r\\n2...   \n",
              "3  At present there isn't any way to temporarily ...   \n",
              "4  ## Summary\\r\\n\\r\\nAt present there is no way t...   \n",
              "\n",
              "                        repo  \n",
              "0  freeCodeCamp/freeCodeCamp  \n",
              "1            pytorch/pytorch  \n",
              "2                  atom/atom  \n",
              "3      kubernetes/kubernetes  \n",
              "4            gatsbyjs/gatsby  "
            ],
            "text/html": [
              "\n",
              "  <div id=\"df-b1050ced-db1a-4d57-a308-406e3f179571\">\n",
              "    <div class=\"colab-df-container\">\n",
              "      <div>\n",
              "<style scoped>\n",
              "    .dataframe tbody tr th:only-of-type {\n",
              "        vertical-align: middle;\n",
              "    }\n",
              "\n",
              "    .dataframe tbody tr th {\n",
              "        vertical-align: top;\n",
              "    }\n",
              "\n",
              "    .dataframe thead th {\n",
              "        text-align: right;\n",
              "    }\n",
              "</style>\n",
              "<table border=\"1\" class=\"dataframe\">\n",
              "  <thead>\n",
              "    <tr style=\"text-align: right;\">\n",
              "      <th></th>\n",
              "      <th>number</th>\n",
              "      <th>title</th>\n",
              "      <th>body</th>\n",
              "      <th>repo</th>\n",
              "    </tr>\n",
              "  </thead>\n",
              "  <tbody>\n",
              "    <tr>\n",
              "      <th>0</th>\n",
              "      <td>35557</td>\n",
              "      <td>Add test to disallow extra characters in Appli...</td>\n",
              "      <td>In the challenge [Applied Accessibility: Stand...</td>\n",
              "      <td>freeCodeCamp/freeCodeCamp</td>\n",
              "    </tr>\n",
              "    <tr>\n",
              "      <th>1</th>\n",
              "      <td>14968</td>\n",
              "      <td>Running pytorch 1.0.0 on aws lambda</td>\n",
              "      <td>## ❓ Questions and Help\\r\\n\\r\\nHello,\\r\\n\\r\\nI...</td>\n",
              "      <td>pytorch/pytorch</td>\n",
              "    </tr>\n",
              "    <tr>\n",
              "      <th>2</th>\n",
              "      <td>18448</td>\n",
              "      <td>Uncaught TypeError: Cannot read property 'endI...</td>\n",
              "      <td>[Enter steps to reproduce:]\\r\\n\\r\\n1. ...\\r\\n2...</td>\n",
              "      <td>atom/atom</td>\n",
              "    </tr>\n",
              "    <tr>\n",
              "      <th>3</th>\n",
              "      <td>37086</td>\n",
              "      <td>Ability to enable/disable replication controller</td>\n",
              "      <td>At present there isn't any way to temporarily ...</td>\n",
              "      <td>kubernetes/kubernetes</td>\n",
              "    </tr>\n",
              "    <tr>\n",
              "      <th>4</th>\n",
              "      <td>5531</td>\n",
              "      <td>[gatsby-plugin-sharp] Support Default Configur...</td>\n",
              "      <td>## Summary\\r\\n\\r\\nAt present there is no way t...</td>\n",
              "      <td>gatsbyjs/gatsby</td>\n",
              "    </tr>\n",
              "  </tbody>\n",
              "</table>\n",
              "</div>\n",
              "      <button class=\"colab-df-convert\" onclick=\"convertToInteractive('df-b1050ced-db1a-4d57-a308-406e3f179571')\"\n",
              "              title=\"Convert this dataframe to an interactive table.\"\n",
              "              style=\"display:none;\">\n",
              "        \n",
              "  <svg xmlns=\"http://www.w3.org/2000/svg\" height=\"24px\"viewBox=\"0 0 24 24\"\n",
              "       width=\"24px\">\n",
              "    <path d=\"M0 0h24v24H0V0z\" fill=\"none\"/>\n",
              "    <path d=\"M18.56 5.44l.94 2.06.94-2.06 2.06-.94-2.06-.94-.94-2.06-.94 2.06-2.06.94zm-11 1L8.5 8.5l.94-2.06 2.06-.94-2.06-.94L8.5 2.5l-.94 2.06-2.06.94zm10 10l.94 2.06.94-2.06 2.06-.94-2.06-.94-.94-2.06-.94 2.06-2.06.94z\"/><path d=\"M17.41 7.96l-1.37-1.37c-.4-.4-.92-.59-1.43-.59-.52 0-1.04.2-1.43.59L10.3 9.45l-7.72 7.72c-.78.78-.78 2.05 0 2.83L4 21.41c.39.39.9.59 1.41.59.51 0 1.02-.2 1.41-.59l7.78-7.78 2.81-2.81c.8-.78.8-2.07 0-2.86zM5.41 20L4 18.59l7.72-7.72 1.47 1.35L5.41 20z\"/>\n",
              "  </svg>\n",
              "      </button>\n",
              "      \n",
              "  <style>\n",
              "    .colab-df-container {\n",
              "      display:flex;\n",
              "      flex-wrap:wrap;\n",
              "      gap: 12px;\n",
              "    }\n",
              "\n",
              "    .colab-df-convert {\n",
              "      background-color: #E8F0FE;\n",
              "      border: none;\n",
              "      border-radius: 50%;\n",
              "      cursor: pointer;\n",
              "      display: none;\n",
              "      fill: #1967D2;\n",
              "      height: 32px;\n",
              "      padding: 0 0 0 0;\n",
              "      width: 32px;\n",
              "    }\n",
              "\n",
              "    .colab-df-convert:hover {\n",
              "      background-color: #E2EBFA;\n",
              "      box-shadow: 0px 1px 2px rgba(60, 64, 67, 0.3), 0px 1px 3px 1px rgba(60, 64, 67, 0.15);\n",
              "      fill: #174EA6;\n",
              "    }\n",
              "\n",
              "    [theme=dark] .colab-df-convert {\n",
              "      background-color: #3B4455;\n",
              "      fill: #D2E3FC;\n",
              "    }\n",
              "\n",
              "    [theme=dark] .colab-df-convert:hover {\n",
              "      background-color: #434B5C;\n",
              "      box-shadow: 0px 1px 3px 1px rgba(0, 0, 0, 0.15);\n",
              "      filter: drop-shadow(0px 1px 2px rgba(0, 0, 0, 0.3));\n",
              "      fill: #FFFFFF;\n",
              "    }\n",
              "  </style>\n",
              "\n",
              "      <script>\n",
              "        const buttonEl =\n",
              "          document.querySelector('#df-b1050ced-db1a-4d57-a308-406e3f179571 button.colab-df-convert');\n",
              "        buttonEl.style.display =\n",
              "          google.colab.kernel.accessAllowed ? 'block' : 'none';\n",
              "\n",
              "        async function convertToInteractive(key) {\n",
              "          const element = document.querySelector('#df-b1050ced-db1a-4d57-a308-406e3f179571');\n",
              "          const dataTable =\n",
              "            await google.colab.kernel.invokeFunction('convertToInteractive',\n",
              "                                                     [key], {});\n",
              "          if (!dataTable) return;\n",
              "\n",
              "          const docLinkHtml = 'Like what you see? Visit the ' +\n",
              "            '<a target=\"_blank\" href=https://colab.research.google.com/notebooks/data_table.ipynb>data table notebook</a>'\n",
              "            + ' to learn more about interactive tables.';\n",
              "          element.innerHTML = '';\n",
              "          dataTable['output_type'] = 'display_data';\n",
              "          await google.colab.output.renderOutput(dataTable, element);\n",
              "          const docLink = document.createElement('div');\n",
              "          docLink.innerHTML = docLinkHtml;\n",
              "          element.appendChild(docLink);\n",
              "        }\n",
              "      </script>\n",
              "    </div>\n",
              "  </div>\n",
              "  "
            ]
          },
          "metadata": {},
          "execution_count": 5
        }
      ]
    },
    {
      "cell_type": "code",
      "source": [
        "#since we need to summarize issue for title generation, there is no need for data['number'] column\n",
        "data.drop(columns = ['number'], inplace=True)"
      ],
      "metadata": {
        "id": "copeLN4rqFaE"
      },
      "id": "copeLN4rqFaE",
      "execution_count": 6,
      "outputs": []
    },
    {
      "cell_type": "markdown",
      "source": [
        "###**data['body'] column**\n",
        "###**Replacing:** \n",
        "\n",
        "*   code snippets with word 'code'\n",
        "*   added image link with word 'image'\n",
        "*   hyperlink text with word 'link'\n",
        "*   url text with word 'url'\n",
        "*   new line with text 'new line'\n"
      ],
      "metadata": {
        "id": "v7JUH-I0kt2w"
      },
      "id": "v7JUH-I0kt2w"
    },
    {
      "cell_type": "code",
      "source": [
        "#replacing code snippets with word 'code'\n",
        "data['body'] = data['body'].replace(to_replace=re.compile(r'```(?:.|\\n)+?```'), value=' code ', regex=True)\n",
        "#replacing added image link with word 'image'\n",
        "data['body'] = data['body'].replace(to_replace=re.compile(r'\\!\\[(.*?)\\]\\(.+?\\)'), value=' image ', regex=True)\n",
        "#replacing hyperlink text with word 'link'\n",
        "data['body'] = data['body'].replace(to_replace=re.compile(r'(?<!\\!)\\[(.*?)\\]\\(.+?\\)'), value=' link ', regex=True)\n",
        "#replacing url text with word 'url'\n",
        "data['body'] = data['body'].replace(to_replace=re.compile(r'(https?|ftp)://[^\\s/$.?#].[^\\s]*'), value=' url ', regex=True)\n",
        "#replacing new line with text 'new line'\n",
        "data['body'] = data['body'].replace(to_replace=re.compile(r'(\\n\\r)|(\\r\\n)|(\\n)'), value=' ', regex=True)\n",
        "#lowering text\n",
        "data['body']= data['body'].apply(lambda row: row.lower())"
      ],
      "metadata": {
        "id": "ydvzJMc3lpFs"
      },
      "id": "ydvzJMc3lpFs",
      "execution_count": 7,
      "outputs": []
    },
    {
      "cell_type": "markdown",
      "source": [
        "###**data['title'] column**\n",
        "###**Removing**:\n",
        "*   tags\n",
        "*   emphasis\n"
      ],
      "metadata": {
        "id": "3nIHWbXLzt9X"
      },
      "id": "3nIHWbXLzt9X"
    },
    {
      "cell_type": "code",
      "source": [
        "#removing tags\n",
        "data['title'] = data['title'].replace(to_replace=re.compile(r'^(\\s*\\[.*?\\])+'), value='', regex=True)\n",
        "#removing emphasis of \"Important Issue\" in bold\n",
        "data['title'] = data['title'].replace(to_replace=re.compile(r'(\\*{1,})(.+?)(\\*{1,})'), value='', regex=True)\n",
        "#lowering text\n",
        "data['title']= data['title'].apply(lambda row: row.lower())"
      ],
      "metadata": {
        "id": "kMh5HafLyrTr"
      },
      "id": "kMh5HafLyrTr",
      "execution_count": 8,
      "outputs": []
    },
    {
      "cell_type": "markdown",
      "source": [
        "##**Exploratory Data Analysis**\n",
        "\n",
        "Let's examine the dataset to get some interesting insights."
      ],
      "metadata": {
        "id": "a1gPjZ622Tu2"
      },
      "id": "a1gPjZ622Tu2"
    },
    {
      "cell_type": "code",
      "source": [
        "from wordcloud import WordCloud\n",
        "import matplotlib.pyplot as plt\n",
        "\n",
        "words_title = ' '.join(data['title'])\n",
        "wcloud = WordCloud(background_color=\"white\").generate(words_title)\n",
        "plt.figure(figsize=(8,6))\n",
        "plt.imshow(wcloud, interpolation='bilinear')\n",
        "plt.title(\"Word Cloud - title column\")\n",
        "plt.axis(\"off\")\n",
        "plt.savefig(\"/content/sample_data/wordcloud1.png\")\n",
        "plt.show()"
      ],
      "metadata": {
        "colab": {
          "base_uri": "https://localhost:8080/",
          "height": 270
        },
        "id": "pIlSH9u54r55",
        "outputId": "17114b7d-9bca-4024-c180-47dece949970"
      },
      "id": "pIlSH9u54r55",
      "execution_count": 9,
      "outputs": [
        {
          "output_type": "display_data",
          "data": {
            "text/plain": [
              "<Figure size 576x432 with 1 Axes>"
            ],
            "image/png": "[encoded data removed]"
          },
          "metadata": {
            "needs_background": "light"
          }
        }
      ]
    },
    {
      "cell_type": "code",
      "source": [
        "top20 = pd.DataFrame(data['repo'].value_counts()[:20])\n",
        "plot = top20.plot.barh(title='Top 20 trending repositories for issues on GitHub')\n",
        "fig = plot.get_figure()\n",
        "fig.savefig(\"/content/sample_data/barh.png\", dpi=70, bbox_inches = \"tight\")"
      ],
      "metadata": {
        "colab": {
          "base_uri": "https://localhost:8080/",
          "height": 281
        },
        "id": "EbwVaDAa9lOP",
        "outputId": "7923ea83-777f-431f-ef9a-4d0401307e25"
      },
      "id": "EbwVaDAa9lOP",
      "execution_count": 10,
      "outputs": [
        {
          "output_type": "display_data",
          "data": {
            "text/plain": [
              "<Figure size 432x288 with 1 Axes>"
            ],
            "image/png": "[encoded data removed]"
          },
          "metadata": {
            "needs_background": "light"
          }
        }
      ]
    },
    {
      "cell_type": "code",
      "source": [
        "top20"
      ],
      "metadata": {
        "colab": {
          "base_uri": "https://localhost:8080/",
          "height": 676
        },
        "id": "J60OBkerH9Bv",
        "outputId": "8bd243a6-647a-4c11-b18e-52c811d6ba1e"
      },
      "id": "J60OBkerH9Bv",
      "execution_count": 11,
      "outputs": [
        {
          "output_type": "execute_result",
          "data": {
            "text/plain": [
              "                                   repo\n",
              "microsoft/vscode                  77796\n",
              "golang/go                         34730\n",
              "kubernetes/kubernetes             32704\n",
              "rust-lang/rust                    32198\n",
              "flutter/flutter                   28834\n",
              "ansible/ansible                   25461\n",
              "microsoft/TypeScript              24323\n",
              "elastic/elasticsearch             21772\n",
              "tensorflow/tensorflow             21339\n",
              "moby/moby                         19719\n",
              "angular/angular                   19321\n",
              "twbs/bootstrap                    18909\n",
              "spring-projects/spring-framework  18727\n",
              "ytdl-org/youtube-dl               18270\n",
              "facebook/react-native             17981\n",
              "ionic-team/ionic                  16445\n",
              "spring-projects/spring-boot       15323\n",
              "FortAwesome/Font-Awesome          15216\n",
              "atom/atom                         15147\n",
              "grafana/grafana                   14345"
            ],
            "text/html": [
              "\n",
              "  <div id=\"df-134a53dc-bc96-4b8c-85bc-7688fa84789d\">\n",
              "    <div class=\"colab-df-container\">\n",
              "      <div>\n",
              "<style scoped>\n",
              "    .dataframe tbody tr th:only-of-type {\n",
              "        vertical-align: middle;\n",
              "    }\n",
              "\n",
              "    .dataframe tbody tr th {\n",
              "        vertical-align: top;\n",
              "    }\n",
              "\n",
              "    .dataframe thead th {\n",
              "        text-align: right;\n",
              "    }\n",
              "</style>\n",
              "<table border=\"1\" class=\"dataframe\">\n",
              "  <thead>\n",
              "    <tr style=\"text-align: right;\">\n",
              "      <th></th>\n",
              "      <th>repo</th>\n",
              "    </tr>\n",
              "  </thead>\n",
              "  <tbody>\n",
              "    <tr>\n",
              "      <th>microsoft/vscode</th>\n",
              "      <td>77796</td>\n",
              "    </tr>\n",
              "    <tr>\n",
              "      <th>golang/go</th>\n",
              "      <td>34730</td>\n",
              "    </tr>\n",
              "    <tr>\n",
              "      <th>kubernetes/kubernetes</th>\n",
              "      <td>32704</td>\n",
              "    </tr>\n",
              "    <tr>\n",
              "      <th>rust-lang/rust</th>\n",
              "      <td>32198</td>\n",
              "    </tr>\n",
              "    <tr>\n",
              "      <th>flutter/flutter</th>\n",
              "      <td>28834</td>\n",
              "    </tr>\n",
              "    <tr>\n",
              "      <th>ansible/ansible</th>\n",
              "      <td>25461</td>\n",
              "    </tr>\n",
              "    <tr>\n",
              "      <th>microsoft/TypeScript</th>\n",
              "      <td>24323</td>\n",
              "    </tr>\n",
              "    <tr>\n",
              "      <th>elastic/elasticsearch</th>\n",
              "      <td>21772</td>\n",
              "    </tr>\n",
              "    <tr>\n",
              "      <th>tensorflow/tensorflow</th>\n",
              "      <td>21339</td>\n",
              "    </tr>\n",
              "    <tr>\n",
              "      <th>moby/moby</th>\n",
              "      <td>19719</td>\n",
              "    </tr>\n",
              "    <tr>\n",
              "      <th>angular/angular</th>\n",
              "      <td>19321</td>\n",
              "    </tr>\n",
              "    <tr>\n",
              "      <th>twbs/bootstrap</th>\n",
              "      <td>18909</td>\n",
              "    </tr>\n",
              "    <tr>\n",
              "      <th>spring-projects/spring-framework</th>\n",
              "      <td>18727</td>\n",
              "    </tr>\n",
              "    <tr>\n",
              "      <th>ytdl-org/youtube-dl</th>\n",
              "      <td>18270</td>\n",
              "    </tr>\n",
              "    <tr>\n",
              "      <th>facebook/react-native</th>\n",
              "      <td>17981</td>\n",
              "    </tr>\n",
              "    <tr>\n",
              "      <th>ionic-team/ionic</th>\n",
              "      <td>16445</td>\n",
              "    </tr>\n",
              "    <tr>\n",
              "      <th>spring-projects/spring-boot</th>\n",
              "      <td>15323</td>\n",
              "    </tr>\n",
              "    <tr>\n",
              "      <th>FortAwesome/Font-Awesome</th>\n",
              "      <td>15216</td>\n",
              "    </tr>\n",
              "    <tr>\n",
              "      <th>atom/atom</th>\n",
              "      <td>15147</td>\n",
              "    </tr>\n",
              "    <tr>\n",
              "      <th>grafana/grafana</th>\n",
              "      <td>14345</td>\n",
              "    </tr>\n",
              "  </tbody>\n",
              "</table>\n",
              "</div>\n",
              "      <button class=\"colab-df-convert\" onclick=\"convertToInteractive('df-134a53dc-bc96-4b8c-85bc-7688fa84789d')\"\n",
              "              title=\"Convert this dataframe to an interactive table.\"\n",
              "              style=\"display:none;\">\n",
              "        \n",
              "  <svg xmlns=\"http://www.w3.org/2000/svg\" height=\"24px\"viewBox=\"0 0 24 24\"\n",
              "       width=\"24px\">\n",
              "    <path d=\"M0 0h24v24H0V0z\" fill=\"none\"/>\n",
              "    <path d=\"M18.56 5.44l.94 2.06.94-2.06 2.06-.94-2.06-.94-.94-2.06-.94 2.06-2.06.94zm-11 1L8.5 8.5l.94-2.06 2.06-.94-2.06-.94L8.5 2.5l-.94 2.06-2.06.94zm10 10l.94 2.06.94-2.06 2.06-.94-2.06-.94-.94-2.06-.94 2.06-2.06.94z\"/><path d=\"M17.41 7.96l-1.37-1.37c-.4-.4-.92-.59-1.43-.59-.52 0-1.04.2-1.43.59L10.3 9.45l-7.72 7.72c-.78.78-.78 2.05 0 2.83L4 21.41c.39.39.9.59 1.41.59.51 0 1.02-.2 1.41-.59l7.78-7.78 2.81-2.81c.8-.78.8-2.07 0-2.86zM5.41 20L4 18.59l7.72-7.72 1.47 1.35L5.41 20z\"/>\n",
              "  </svg>\n",
              "      </button>\n",
              "      \n",
              "  <style>\n",
              "    .colab-df-container {\n",
              "      display:flex;\n",
              "      flex-wrap:wrap;\n",
              "      gap: 12px;\n",
              "    }\n",
              "\n",
              "    .colab-df-convert {\n",
              "      background-color: #E8F0FE;\n",
              "      border: none;\n",
              "      border-radius: 50%;\n",
              "      cursor: pointer;\n",
              "      display: none;\n",
              "      fill: #1967D2;\n",
              "      height: 32px;\n",
              "      padding: 0 0 0 0;\n",
              "      width: 32px;\n",
              "    }\n",
              "\n",
              "    .colab-df-convert:hover {\n",
              "      background-color: #E2EBFA;\n",
              "      box-shadow: 0px 1px 2px rgba(60, 64, 67, 0.3), 0px 1px 3px 1px rgba(60, 64, 67, 0.15);\n",
              "      fill: #174EA6;\n",
              "    }\n",
              "\n",
              "    [theme=dark] .colab-df-convert {\n",
              "      background-color: #3B4455;\n",
              "      fill: #D2E3FC;\n",
              "    }\n",
              "\n",
              "    [theme=dark] .colab-df-convert:hover {\n",
              "      background-color: #434B5C;\n",
              "      box-shadow: 0px 1px 3px 1px rgba(0, 0, 0, 0.15);\n",
              "      filter: drop-shadow(0px 1px 2px rgba(0, 0, 0, 0.3));\n",
              "      fill: #FFFFFF;\n",
              "    }\n",
              "  </style>\n",
              "\n",
              "      <script>\n",
              "        const buttonEl =\n",
              "          document.querySelector('#df-134a53dc-bc96-4b8c-85bc-7688fa84789d button.colab-df-convert');\n",
              "        buttonEl.style.display =\n",
              "          google.colab.kernel.accessAllowed ? 'block' : 'none';\n",
              "\n",
              "        async function convertToInteractive(key) {\n",
              "          const element = document.querySelector('#df-134a53dc-bc96-4b8c-85bc-7688fa84789d');\n",
              "          const dataTable =\n",
              "            await google.colab.kernel.invokeFunction('convertToInteractive',\n",
              "                                                     [key], {});\n",
              "          if (!dataTable) return;\n",
              "\n",
              "          const docLinkHtml = 'Like what you see? Visit the ' +\n",
              "            '<a target=\"_blank\" href=https://colab.research.google.com/notebooks/data_table.ipynb>data table notebook</a>'\n",
              "            + ' to learn more about interactive tables.';\n",
              "          element.innerHTML = '';\n",
              "          dataTable['output_type'] = 'display_data';\n",
              "          await google.colab.output.renderOutput(dataTable, element);\n",
              "          const docLink = document.createElement('div');\n",
              "          docLink.innerHTML = docLinkHtml;\n",
              "          element.appendChild(docLink);\n",
              "        }\n",
              "      </script>\n",
              "    </div>\n",
              "  </div>\n",
              "  "
            ]
          },
          "metadata": {},
          "execution_count": 11
        }
      ]
    },
    {
      "cell_type": "code",
      "source": [
        "data.drop(columns = ['repo'], inplace=True)"
      ],
      "metadata": {
        "id": "cFGSVltgjPf5"
      },
      "id": "cFGSVltgjPf5",
      "execution_count": 12,
      "outputs": []
    },
    {
      "cell_type": "markdown",
      "source": [
        "##**Model Training**"
      ],
      "metadata": {
        "id": "swijMJ6dBM0m"
      },
      "id": "swijMJ6dBM0m"
    },
    {
      "cell_type": "code",
      "source": [
        "n = 50\n",
        "# giving number for data['body'][n] to generate title"
      ],
      "metadata": {
        "id": "g27DIYEwBPmf"
      },
      "id": "g27DIYEwBPmf",
      "execution_count": 14,
      "outputs": []
    },
    {
      "cell_type": "markdown",
      "source": [
        "##**BART**"
      ],
      "metadata": {
        "id": "audg3r-_LAmS"
      },
      "id": "audg3r-_LAmS"
    },
    {
      "cell_type": "markdown",
      "source": [
        "Example on a sample"
      ],
      "metadata": {
        "id": "Tt0f7_dYElVY"
      },
      "id": "Tt0f7_dYElVY"
    },
    {
      "cell_type": "code",
      "source": [
        "# initialize tokenizer && model\n",
        "model= \"sshleifer/distilbart-cnn-6-6\"\n",
        "bart_tokenizer = AutoTokenizer.from_pretrained(model)\n",
        "bart_model = BartForConditionalGeneration.from_pretrained(model)\n",
        "\n",
        "# encoding input text\n",
        "input_text = data['body'][n]\n",
        "input_ids = bart_tokenizer.encode(input_text, return_tensors=\"pt\")\n",
        "\n",
        "# summary\n",
        "summary_ids = bart_model.generate(input_ids, \n",
        "                             num_beams=1, \n",
        "                             max_length=20, \n",
        "                             min_length=10, \n",
        "                             length_penalty=2.0, \n",
        "                             early_stopping=True)\n",
        "\n",
        "BART_issue_title = bart_tokenizer.decode(summary_ids[0], skip_special_tokens=True)"
      ],
      "metadata": {
        "id": "PQ5ueiB2aw1B"
      },
      "id": "PQ5ueiB2aw1B",
      "execution_count": 32,
      "outputs": []
    },
    {
      "cell_type": "markdown",
      "source": [
        "##**BERT**"
      ],
      "metadata": {
        "id": "vOO3l1YPLDd6"
      },
      "id": "vOO3l1YPLDd6"
    },
    {
      "cell_type": "markdown",
      "source": [
        "Example on a sample"
      ],
      "metadata": {
        "id": "sXPqQwBzr1BB"
      },
      "id": "sXPqQwBzr1BB"
    },
    {
      "cell_type": "code",
      "source": [
        "# Initialize the tokenizer and model\n",
        "tokenizer = AutoTokenizer.from_pretrained(\"bert-base-cased\")\n",
        "model = BertForMaskedLM.from_pretrained(\"bert-base-cased\")\n",
        "\n",
        "# Encode the input text\n",
        "prompt = data['body'][n]\n",
        "input_ids = tokenizer.encode(prompt, return_tensors=\"pt\")\n",
        "\n",
        "# Mask the last token (which is the summary)\n",
        "input_ids[0][-1] = tokenizer.mask_token_id\n",
        "\n",
        "# Generate the summary\n",
        "summary_ids = model.generate(input_ids,num_beams=1, \n",
        "                             max_length=20, \n",
        "                             min_length=10, \n",
        "                             length_penalty=2.0, \n",
        "                             early_stopping=True)[0]\n",
        "BERT_issue_title = tokenizer.decode(summary_ids, skip_special_tokens=True)"
      ],
      "metadata": {
        "colab": {
          "base_uri": "https://localhost:8080/"
        },
        "id": "qi-LExbMT-2k",
        "outputId": "7d306fd8-5fd1-4cda-8397-8fce82c14ced"
      },
      "id": "qi-LExbMT-2k",
      "execution_count": 49,
      "outputs": [
        {
          "output_type": "stream",
          "name": "stderr",
          "text": [
            "Some weights of the model checkpoint at bert-base-cased were not used when initializing BertForMaskedLM: ['cls.seq_relationship.weight', 'cls.seq_relationship.bias']\n",
            "- This IS expected if you are initializing BertForMaskedLM from the checkpoint of a model trained on another task or with another architecture (e.g. initializing a BertForSequenceClassification model from a BertForPreTraining model).\n",
            "- This IS NOT expected if you are initializing BertForMaskedLM from the checkpoint of a model that you expect to be exactly identical (initializing a BertForSequenceClassification model from a BertForSequenceClassification model).\n",
            "Input length of input_ids is 365, but ``max_length`` is set to 20.This can lead to unexpected behavior. You should consider increasing ``config.max_length`` or ``max_length``.\n"
          ]
        }
      ]
    },
    {
      "cell_type": "markdown",
      "source": [
        "##**T5Model**"
      ],
      "metadata": {
        "id": "5c1Y5LxaLIzC"
      },
      "id": "5c1Y5LxaLIzC"
    },
    {
      "cell_type": "markdown",
      "source": [
        "Example on a sample"
      ],
      "metadata": {
        "id": "ue1EUP0orzxo"
      },
      "id": "ue1EUP0orzxo"
    },
    {
      "cell_type": "code",
      "source": [
        "# initialize tokenizer && model\n",
        "model = T5ForConditionalGeneration.from_pretrained('t5-small')\n",
        "tokenizer = T5Tokenizer.from_pretrained('t5-small')\n",
        "device = torch.device('cpu')\n",
        "\n",
        "text1=data['body'][n]\n",
        "\n",
        "tokenized_text = tokenizer.encode(text1, return_tensors=\"pt\").to(device)\n",
        "\n",
        "\n",
        "# summmarize \n",
        "summary_ids = model.generate(tokenized_text,\n",
        "                                    num_beams=1,\n",
        "                                    no_repeat_ngram_size=2,\n",
        "                                    min_length=10,\n",
        "                                    max_length=20,\n",
        "                                    early_stopping=True)\n",
        "\n",
        "T5_issue_title = tokenizer.decode(summary_ids[0], skip_special_tokens=True)"
      ],
      "metadata": {
        "id": "ZLvbklZtAPYP"
      },
      "id": "ZLvbklZtAPYP",
      "execution_count": 36,
      "outputs": []
    },
    {
      "cell_type": "markdown",
      "source": [
        "###**Comparing Generated Issue Titles**"
      ],
      "metadata": {
        "id": "h3R2vRkY3ZwY"
      },
      "id": "h3R2vRkY3ZwY"
    },
    {
      "cell_type": "code",
      "source": [
        "print('Original text: \\n', data['body'][n],  '\\n')\n",
        "print('BART: \\n', BART_issue_title,  '\\n')\n",
        "print('BERT: \\n',BERT_issue_title,  '\\n')\n",
        "print('T5: \\n', T5_issue_title,  '\\n')\n",
        "print('Original title: \\n', data['title'][n],  '\\n')"
      ],
      "metadata": {
        "colab": {
          "base_uri": "https://localhost:8080/"
        },
        "id": "jfDdmSsZ20Hu",
        "outputId": "2f17b782-2cc8-4aa5-a4b5-bbaf67a44fa2"
      },
      "id": "jfDdmSsZ20Hu",
      "execution_count": 50,
      "outputs": [
        {
          "output_type": "stream",
          "name": "stdout",
          "text": [
            "Original text: \n",
            " ** link ** opened ** link ** and commented  i set the location of a propertyplaceholderconfigurer to a bytearrayresource and got this error upon starting up:  java.lang.illegalstateexception: resource loaded from byte array does not have a filename at org.springframework.core.io.abstractresource.getfilename(abstractresource.java:157) at org.springframework.core.io.support.propertiesloadersupport.loadproperties(propertiesloadersupport.java:182) at org.springframework.core.io.support.propertiesloadersupport.mergeproperties(propertiesloadersupport.java:161) at org.springframework.beans.factory.config.propertyresourceconfigurer.postprocessbeanfactory(propertyresourceconfigurer.java:69) at org.springframework.context.support.abstractapplicationcontext.invokebeanfactorypostprocessors(abstractapplicationcontext.java:663) at org.springframework.context.support.abstractapplicationcontext.invokebeanfactorypostprocessors(abstractapplicationcontext.java:603) at org.springframework.context.support.abstractapplicationcontext.refresh(abstractapplicationcontext.java:407)    ---  **affects:** 3.0.4  **referenced from:** commits  url   url   url   \n",
            "\n",
            "BART: \n",
            "  java.lang.lang: resource loaded from byte array does not have a filename at org. \n",
            "\n",
            "BERT: \n",
            " * * link * * opened * * link * * and commented i set the location of a propertyplaceholderconfigurer to a bytearrayresource and got this error upon starting up : java. lang. illegalstateexception : resource loaded from byte array does not have a filename at org. springframework. core. io. abstractresource. getfilename ( abstractresource. java : 157 ) at org. springframework. core. io. support. propertiesloadersupport. loadproperties ( propertiesloadersupport. java : 182 ) at org. springframework. core. io. support. propertiesloadersupport. mergeproperties ( propertiesloadersupport. java : 161 ) at org. springframework. beans. factory. config. propertyresourceconfigurer. postprocessbeanfactory ( propertyresourceconfigurer. java : 69 ) at org. springframework. context. support. abstractapplicationcontext. invokebeanfactorypostprocessors ( abstractapplicationcontext. java : 663 ) at org. springframework. context. support. abstractapplicationcontext. invokebeanfactorypostprocessors ( abstractapplicationcontext. java : 603 ) at org. springframework. context. support. abstractapplicationcontext. refresh ( abstractapplicationcontext. java : 407 ) - - - * * affects : * * 3. 0. 4 * * referenced from : * * commits url url url \n",
            "\n",
            "T5: \n",
            " .java:663) at org.springframework.context.support. \n",
            "\n",
            "Original title: \n",
            "  propertiesloadersupport assumes file-based resources [spr-7547] \n",
            "\n"
          ]
        }
      ]
    },
    {
      "cell_type": "markdown",
      "source": [
        "##**Evaluation**"
      ],
      "metadata": {
        "id": "Da-uPwhh57c2"
      },
      "id": "Da-uPwhh57c2"
    },
    {
      "cell_type": "markdown",
      "source": [
        "###**BLEU**"
      ],
      "metadata": {
        "id": "Brj1YRNu7Pa3"
      },
      "id": "Brj1YRNu7Pa3"
    },
    {
      "cell_type": "code",
      "source": [
        "bleu_metric = load_metric(\"sacrebleu\")\n",
        "\n",
        "def bleu_evaluate(pred, ref):\n",
        "  bleu_metric.add(prediction= pred, reference=ref.split())\n",
        "  results = bleu_metric.compute(smooth_method=\"floor\", smooth_value=0)\n",
        "  results[\"precisions\"] = [np.round(p, 2) for p in results[\"precisions\"]]\n",
        "  results = pd.DataFrame.from_dict(results, orient=\"index\", columns=[\"Value\"])\n",
        "  return results"
      ],
      "metadata": {
        "colab": {
          "base_uri": "https://localhost:8080/"
        },
        "id": "pyCq0gMm6QJR",
        "outputId": "77255d3e-902f-46a5-9d9b-392f75d38535"
      },
      "id": "pyCq0gMm6QJR",
      "execution_count": 44,
      "outputs": [
        {
          "output_type": "stream",
          "name": "stderr",
          "text": [
            "<ipython-input-44-c0c2c050db5f>:1: FutureWarning: load_metric is deprecated and will be removed in the next major version of datasets. Use 'evaluate.load' instead, from the new library 🤗 Evaluate: https://huggingface.co/docs/evaluate\n",
            "  bleu_metric = load_metric(\"sacrebleu\")\n"
          ]
        }
      ]
    },
    {
      "cell_type": "code",
      "source": [
        "bleu_evaluate(BART_issue_title, data['title'][100]) "
      ],
      "metadata": {
        "colab": {
          "base_uri": "https://localhost:8080/",
          "height": 269
        },
        "id": "eMLKzrh06gR3",
        "outputId": "e4d404aa-d763-46a5-b70c-a0314fa9e5b1"
      },
      "id": "eMLKzrh06gR3",
      "execution_count": 45,
      "outputs": [
        {
          "output_type": "execute_result",
          "data": {
            "text/plain": [
              "                           Value\n",
              "score                        0.0\n",
              "counts              [0, 0, 0, 0]\n",
              "totals          [19, 18, 17, 16]\n",
              "precisions  [0.0, 0.0, 0.0, 0.0]\n",
              "bp                           1.0\n",
              "sys_len                       19\n",
              "ref_len                        1"
            ],
            "text/html": [
              "\n",
              "  <div id=\"df-cdff6ddd-d7d1-4b72-a8da-7b359babb52e\">\n",
              "    <div class=\"colab-df-container\">\n",
              "      <div>\n",
              "<style scoped>\n",
              "    .dataframe tbody tr th:only-of-type {\n",
              "        vertical-align: middle;\n",
              "    }\n",
              "\n",
              "    .dataframe tbody tr th {\n",
              "        vertical-align: top;\n",
              "    }\n",
              "\n",
              "    .dataframe thead th {\n",
              "        text-align: right;\n",
              "    }\n",
              "</style>\n",
              "<table border=\"1\" class=\"dataframe\">\n",
              "  <thead>\n",
              "    <tr style=\"text-align: right;\">\n",
              "      <th></th>\n",
              "      <th>Value</th>\n",
              "    </tr>\n",
              "  </thead>\n",
              "  <tbody>\n",
              "    <tr>\n",
              "      <th>score</th>\n",
              "      <td>0.0</td>\n",
              "    </tr>\n",
              "    <tr>\n",
              "      <th>counts</th>\n",
              "      <td>[0, 0, 0, 0]</td>\n",
              "    </tr>\n",
              "    <tr>\n",
              "      <th>totals</th>\n",
              "      <td>[19, 18, 17, 16]</td>\n",
              "    </tr>\n",
              "    <tr>\n",
              "      <th>precisions</th>\n",
              "      <td>[0.0, 0.0, 0.0, 0.0]</td>\n",
              "    </tr>\n",
              "    <tr>\n",
              "      <th>bp</th>\n",
              "      <td>1.0</td>\n",
              "    </tr>\n",
              "    <tr>\n",
              "      <th>sys_len</th>\n",
              "      <td>19</td>\n",
              "    </tr>\n",
              "    <tr>\n",
              "      <th>ref_len</th>\n",
              "      <td>1</td>\n",
              "    </tr>\n",
              "  </tbody>\n",
              "</table>\n",
              "</div>\n",
              "      <button class=\"colab-df-convert\" onclick=\"convertToInteractive('df-cdff6ddd-d7d1-4b72-a8da-7b359babb52e')\"\n",
              "              title=\"Convert this dataframe to an interactive table.\"\n",
              "              style=\"display:none;\">\n",
              "        \n",
              "  <svg xmlns=\"http://www.w3.org/2000/svg\" height=\"24px\"viewBox=\"0 0 24 24\"\n",
              "       width=\"24px\">\n",
              "    <path d=\"M0 0h24v24H0V0z\" fill=\"none\"/>\n",
              "    <path d=\"M18.56 5.44l.94 2.06.94-2.06 2.06-.94-2.06-.94-.94-2.06-.94 2.06-2.06.94zm-11 1L8.5 8.5l.94-2.06 2.06-.94-2.06-.94L8.5 2.5l-.94 2.06-2.06.94zm10 10l.94 2.06.94-2.06 2.06-.94-2.06-.94-.94-2.06-.94 2.06-2.06.94z\"/><path d=\"M17.41 7.96l-1.37-1.37c-.4-.4-.92-.59-1.43-.59-.52 0-1.04.2-1.43.59L10.3 9.45l-7.72 7.72c-.78.78-.78 2.05 0 2.83L4 21.41c.39.39.9.59 1.41.59.51 0 1.02-.2 1.41-.59l7.78-7.78 2.81-2.81c.8-.78.8-2.07 0-2.86zM5.41 20L4 18.59l7.72-7.72 1.47 1.35L5.41 20z\"/>\n",
              "  </svg>\n",
              "      </button>\n",
              "      \n",
              "  <style>\n",
              "    .colab-df-container {\n",
              "      display:flex;\n",
              "      flex-wrap:wrap;\n",
              "      gap: 12px;\n",
              "    }\n",
              "\n",
              "    .colab-df-convert {\n",
              "      background-color: #E8F0FE;\n",
              "      border: none;\n",
              "      border-radius: 50%;\n",
              "      cursor: pointer;\n",
              "      display: none;\n",
              "      fill: #1967D2;\n",
              "      height: 32px;\n",
              "      padding: 0 0 0 0;\n",
              "      width: 32px;\n",
              "    }\n",
              "\n",
              "    .colab-df-convert:hover {\n",
              "      background-color: #E2EBFA;\n",
              "      box-shadow: 0px 1px 2px rgba(60, 64, 67, 0.3), 0px 1px 3px 1px rgba(60, 64, 67, 0.15);\n",
              "      fill: #174EA6;\n",
              "    }\n",
              "\n",
              "    [theme=dark] .colab-df-convert {\n",
              "      background-color: #3B4455;\n",
              "      fill: #D2E3FC;\n",
              "    }\n",
              "\n",
              "    [theme=dark] .colab-df-convert:hover {\n",
              "      background-color: #434B5C;\n",
              "      box-shadow: 0px 1px 3px 1px rgba(0, 0, 0, 0.15);\n",
              "      filter: drop-shadow(0px 1px 2px rgba(0, 0, 0, 0.3));\n",
              "      fill: #FFFFFF;\n",
              "    }\n",
              "  </style>\n",
              "\n",
              "      <script>\n",
              "        const buttonEl =\n",
              "          document.querySelector('#df-cdff6ddd-d7d1-4b72-a8da-7b359babb52e button.colab-df-convert');\n",
              "        buttonEl.style.display =\n",
              "          google.colab.kernel.accessAllowed ? 'block' : 'none';\n",
              "\n",
              "        async function convertToInteractive(key) {\n",
              "          const element = document.querySelector('#df-cdff6ddd-d7d1-4b72-a8da-7b359babb52e');\n",
              "          const dataTable =\n",
              "            await google.colab.kernel.invokeFunction('convertToInteractive',\n",
              "                                                     [key], {});\n",
              "          if (!dataTable) return;\n",
              "\n",
              "          const docLinkHtml = 'Like what you see? Visit the ' +\n",
              "            '<a target=\"_blank\" href=https://colab.research.google.com/notebooks/data_table.ipynb>data table notebook</a>'\n",
              "            + ' to learn more about interactive tables.';\n",
              "          element.innerHTML = '';\n",
              "          dataTable['output_type'] = 'display_data';\n",
              "          await google.colab.output.renderOutput(dataTable, element);\n",
              "          const docLink = document.createElement('div');\n",
              "          docLink.innerHTML = docLinkHtml;\n",
              "          element.appendChild(docLink);\n",
              "        }\n",
              "      </script>\n",
              "    </div>\n",
              "  </div>\n",
              "  "
            ]
          },
          "metadata": {},
          "execution_count": 45
        }
      ]
    },
    {
      "cell_type": "code",
      "source": [
        "bleu_evaluate(T5_issue_title, data['title'][100]) "
      ],
      "metadata": {
        "colab": {
          "base_uri": "https://localhost:8080/",
          "height": 269
        },
        "id": "8cCBx6XK7vsS",
        "outputId": "4f01ed46-2666-4d0a-9057-a637fb597bfd"
      },
      "id": "8cCBx6XK7vsS",
      "execution_count": 46,
      "outputs": [
        {
          "output_type": "execute_result",
          "data": {
            "text/plain": [
              "                           Value\n",
              "score                        0.0\n",
              "counts              [0, 0, 0, 0]\n",
              "totals          [14, 13, 12, 11]\n",
              "precisions  [0.0, 0.0, 0.0, 0.0]\n",
              "bp                           1.0\n",
              "sys_len                       14\n",
              "ref_len                        1"
            ],
            "text/html": [
              "\n",
              "  <div id=\"df-fb52ae49-93f7-4a2b-96a6-5316760f5f60\">\n",
              "    <div class=\"colab-df-container\">\n",
              "      <div>\n",
              "<style scoped>\n",
              "    .dataframe tbody tr th:only-of-type {\n",
              "        vertical-align: middle;\n",
              "    }\n",
              "\n",
              "    .dataframe tbody tr th {\n",
              "        vertical-align: top;\n",
              "    }\n",
              "\n",
              "    .dataframe thead th {\n",
              "        text-align: right;\n",
              "    }\n",
              "</style>\n",
              "<table border=\"1\" class=\"dataframe\">\n",
              "  <thead>\n",
              "    <tr style=\"text-align: right;\">\n",
              "      <th></th>\n",
              "      <th>Value</th>\n",
              "    </tr>\n",
              "  </thead>\n",
              "  <tbody>\n",
              "    <tr>\n",
              "      <th>score</th>\n",
              "      <td>0.0</td>\n",
              "    </tr>\n",
              "    <tr>\n",
              "      <th>counts</th>\n",
              "      <td>[0, 0, 0, 0]</td>\n",
              "    </tr>\n",
              "    <tr>\n",
              "      <th>totals</th>\n",
              "      <td>[14, 13, 12, 11]</td>\n",
              "    </tr>\n",
              "    <tr>\n",
              "      <th>precisions</th>\n",
              "      <td>[0.0, 0.0, 0.0, 0.0]</td>\n",
              "    </tr>\n",
              "    <tr>\n",
              "      <th>bp</th>\n",
              "      <td>1.0</td>\n",
              "    </tr>\n",
              "    <tr>\n",
              "      <th>sys_len</th>\n",
              "      <td>14</td>\n",
              "    </tr>\n",
              "    <tr>\n",
              "      <th>ref_len</th>\n",
              "      <td>1</td>\n",
              "    </tr>\n",
              "  </tbody>\n",
              "</table>\n",
              "</div>\n",
              "      <button class=\"colab-df-convert\" onclick=\"convertToInteractive('df-fb52ae49-93f7-4a2b-96a6-5316760f5f60')\"\n",
              "              title=\"Convert this dataframe to an interactive table.\"\n",
              "              style=\"display:none;\">\n",
              "        \n",
              "  <svg xmlns=\"http://www.w3.org/2000/svg\" height=\"24px\"viewBox=\"0 0 24 24\"\n",
              "       width=\"24px\">\n",
              "    <path d=\"M0 0h24v24H0V0z\" fill=\"none\"/>\n",
              "    <path d=\"M18.56 5.44l.94 2.06.94-2.06 2.06-.94-2.06-.94-.94-2.06-.94 2.06-2.06.94zm-11 1L8.5 8.5l.94-2.06 2.06-.94-2.06-.94L8.5 2.5l-.94 2.06-2.06.94zm10 10l.94 2.06.94-2.06 2.06-.94-2.06-.94-.94-2.06-.94 2.06-2.06.94z\"/><path d=\"M17.41 7.96l-1.37-1.37c-.4-.4-.92-.59-1.43-.59-.52 0-1.04.2-1.43.59L10.3 9.45l-7.72 7.72c-.78.78-.78 2.05 0 2.83L4 21.41c.39.39.9.59 1.41.59.51 0 1.02-.2 1.41-.59l7.78-7.78 2.81-2.81c.8-.78.8-2.07 0-2.86zM5.41 20L4 18.59l7.72-7.72 1.47 1.35L5.41 20z\"/>\n",
              "  </svg>\n",
              "      </button>\n",
              "      \n",
              "  <style>\n",
              "    .colab-df-container {\n",
              "      display:flex;\n",
              "      flex-wrap:wrap;\n",
              "      gap: 12px;\n",
              "    }\n",
              "\n",
              "    .colab-df-convert {\n",
              "      background-color: #E8F0FE;\n",
              "      border: none;\n",
              "      border-radius: 50%;\n",
              "      cursor: pointer;\n",
              "      display: none;\n",
              "      fill: #1967D2;\n",
              "      height: 32px;\n",
              "      padding: 0 0 0 0;\n",
              "      width: 32px;\n",
              "    }\n",
              "\n",
              "    .colab-df-convert:hover {\n",
              "      background-color: #E2EBFA;\n",
              "      box-shadow: 0px 1px 2px rgba(60, 64, 67, 0.3), 0px 1px 3px 1px rgba(60, 64, 67, 0.15);\n",
              "      fill: #174EA6;\n",
              "    }\n",
              "\n",
              "    [theme=dark] .colab-df-convert {\n",
              "      background-color: #3B4455;\n",
              "      fill: #D2E3FC;\n",
              "    }\n",
              "\n",
              "    [theme=dark] .colab-df-convert:hover {\n",
              "      background-color: #434B5C;\n",
              "      box-shadow: 0px 1px 3px 1px rgba(0, 0, 0, 0.15);\n",
              "      filter: drop-shadow(0px 1px 2px rgba(0, 0, 0, 0.3));\n",
              "      fill: #FFFFFF;\n",
              "    }\n",
              "  </style>\n",
              "\n",
              "      <script>\n",
              "        const buttonEl =\n",
              "          document.querySelector('#df-fb52ae49-93f7-4a2b-96a6-5316760f5f60 button.colab-df-convert');\n",
              "        buttonEl.style.display =\n",
              "          google.colab.kernel.accessAllowed ? 'block' : 'none';\n",
              "\n",
              "        async function convertToInteractive(key) {\n",
              "          const element = document.querySelector('#df-fb52ae49-93f7-4a2b-96a6-5316760f5f60');\n",
              "          const dataTable =\n",
              "            await google.colab.kernel.invokeFunction('convertToInteractive',\n",
              "                                                     [key], {});\n",
              "          if (!dataTable) return;\n",
              "\n",
              "          const docLinkHtml = 'Like what you see? Visit the ' +\n",
              "            '<a target=\"_blank\" href=https://colab.research.google.com/notebooks/data_table.ipynb>data table notebook</a>'\n",
              "            + ' to learn more about interactive tables.';\n",
              "          element.innerHTML = '';\n",
              "          dataTable['output_type'] = 'display_data';\n",
              "          await google.colab.output.renderOutput(dataTable, element);\n",
              "          const docLink = document.createElement('div');\n",
              "          docLink.innerHTML = docLinkHtml;\n",
              "          element.appendChild(docLink);\n",
              "        }\n",
              "      </script>\n",
              "    </div>\n",
              "  </div>\n",
              "  "
            ]
          },
          "metadata": {},
          "execution_count": 46
        }
      ]
    },
    {
      "cell_type": "code",
      "source": [
        "bleu_evaluate(BERT_issue_title, data['title'][100]) "
      ],
      "metadata": {
        "colab": {
          "base_uri": "https://localhost:8080/",
          "height": 269
        },
        "id": "lnZJlpDf78Ny",
        "outputId": "a8cef02f-ebfc-4982-cc36-14592fde4f12"
      },
      "id": "lnZJlpDf78Ny",
      "execution_count": 51,
      "outputs": [
        {
          "output_type": "execute_result",
          "data": {
            "text/plain": [
              "                           Value\n",
              "score                        0.0\n",
              "counts              [0, 0, 0, 0]\n",
              "totals      [211, 210, 209, 208]\n",
              "precisions  [0.0, 0.0, 0.0, 0.0]\n",
              "bp                           1.0\n",
              "sys_len                      211\n",
              "ref_len                        1"
            ],
            "text/html": [
              "\n",
              "  <div id=\"df-d4a36d85-28cc-4567-876e-7d304db9ce26\">\n",
              "    <div class=\"colab-df-container\">\n",
              "      <div>\n",
              "<style scoped>\n",
              "    .dataframe tbody tr th:only-of-type {\n",
              "        vertical-align: middle;\n",
              "    }\n",
              "\n",
              "    .dataframe tbody tr th {\n",
              "        vertical-align: top;\n",
              "    }\n",
              "\n",
              "    .dataframe thead th {\n",
              "        text-align: right;\n",
              "    }\n",
              "</style>\n",
              "<table border=\"1\" class=\"dataframe\">\n",
              "  <thead>\n",
              "    <tr style=\"text-align: right;\">\n",
              "      <th></th>\n",
              "      <th>Value</th>\n",
              "    </tr>\n",
              "  </thead>\n",
              "  <tbody>\n",
              "    <tr>\n",
              "      <th>score</th>\n",
              "      <td>0.0</td>\n",
              "    </tr>\n",
              "    <tr>\n",
              "      <th>counts</th>\n",
              "      <td>[0, 0, 0, 0]</td>\n",
              "    </tr>\n",
              "    <tr>\n",
              "      <th>totals</th>\n",
              "      <td>[211, 210, 209, 208]</td>\n",
              "    </tr>\n",
              "    <tr>\n",
              "      <th>precisions</th>\n",
              "      <td>[0.0, 0.0, 0.0, 0.0]</td>\n",
              "    </tr>\n",
              "    <tr>\n",
              "      <th>bp</th>\n",
              "      <td>1.0</td>\n",
              "    </tr>\n",
              "    <tr>\n",
              "      <th>sys_len</th>\n",
              "      <td>211</td>\n",
              "    </tr>\n",
              "    <tr>\n",
              "      <th>ref_len</th>\n",
              "      <td>1</td>\n",
              "    </tr>\n",
              "  </tbody>\n",
              "</table>\n",
              "</div>\n",
              "      <button class=\"colab-df-convert\" onclick=\"convertToInteractive('df-d4a36d85-28cc-4567-876e-7d304db9ce26')\"\n",
              "              title=\"Convert this dataframe to an interactive table.\"\n",
              "              style=\"display:none;\">\n",
              "        \n",
              "  <svg xmlns=\"http://www.w3.org/2000/svg\" height=\"24px\"viewBox=\"0 0 24 24\"\n",
              "       width=\"24px\">\n",
              "    <path d=\"M0 0h24v24H0V0z\" fill=\"none\"/>\n",
              "    <path d=\"M18.56 5.44l.94 2.06.94-2.06 2.06-.94-2.06-.94-.94-2.06-.94 2.06-2.06.94zm-11 1L8.5 8.5l.94-2.06 2.06-.94-2.06-.94L8.5 2.5l-.94 2.06-2.06.94zm10 10l.94 2.06.94-2.06 2.06-.94-2.06-.94-.94-2.06-.94 2.06-2.06.94z\"/><path d=\"M17.41 7.96l-1.37-1.37c-.4-.4-.92-.59-1.43-.59-.52 0-1.04.2-1.43.59L10.3 9.45l-7.72 7.72c-.78.78-.78 2.05 0 2.83L4 21.41c.39.39.9.59 1.41.59.51 0 1.02-.2 1.41-.59l7.78-7.78 2.81-2.81c.8-.78.8-2.07 0-2.86zM5.41 20L4 18.59l7.72-7.72 1.47 1.35L5.41 20z\"/>\n",
              "  </svg>\n",
              "      </button>\n",
              "      \n",
              "  <style>\n",
              "    .colab-df-container {\n",
              "      display:flex;\n",
              "      flex-wrap:wrap;\n",
              "      gap: 12px;\n",
              "    }\n",
              "\n",
              "    .colab-df-convert {\n",
              "      background-color: #E8F0FE;\n",
              "      border: none;\n",
              "      border-radius: 50%;\n",
              "      cursor: pointer;\n",
              "      display: none;\n",
              "      fill: #1967D2;\n",
              "      height: 32px;\n",
              "      padding: 0 0 0 0;\n",
              "      width: 32px;\n",
              "    }\n",
              "\n",
              "    .colab-df-convert:hover {\n",
              "      background-color: #E2EBFA;\n",
              "      box-shadow: 0px 1px 2px rgba(60, 64, 67, 0.3), 0px 1px 3px 1px rgba(60, 64, 67, 0.15);\n",
              "      fill: #174EA6;\n",
              "    }\n",
              "\n",
              "    [theme=dark] .colab-df-convert {\n",
              "      background-color: #3B4455;\n",
              "      fill: #D2E3FC;\n",
              "    }\n",
              "\n",
              "    [theme=dark] .colab-df-convert:hover {\n",
              "      background-color: #434B5C;\n",
              "      box-shadow: 0px 1px 3px 1px rgba(0, 0, 0, 0.15);\n",
              "      filter: drop-shadow(0px 1px 2px rgba(0, 0, 0, 0.3));\n",
              "      fill: #FFFFFF;\n",
              "    }\n",
              "  </style>\n",
              "\n",
              "      <script>\n",
              "        const buttonEl =\n",
              "          document.querySelector('#df-d4a36d85-28cc-4567-876e-7d304db9ce26 button.colab-df-convert');\n",
              "        buttonEl.style.display =\n",
              "          google.colab.kernel.accessAllowed ? 'block' : 'none';\n",
              "\n",
              "        async function convertToInteractive(key) {\n",
              "          const element = document.querySelector('#df-d4a36d85-28cc-4567-876e-7d304db9ce26');\n",
              "          const dataTable =\n",
              "            await google.colab.kernel.invokeFunction('convertToInteractive',\n",
              "                                                     [key], {});\n",
              "          if (!dataTable) return;\n",
              "\n",
              "          const docLinkHtml = 'Like what you see? Visit the ' +\n",
              "            '<a target=\"_blank\" href=https://colab.research.google.com/notebooks/data_table.ipynb>data table notebook</a>'\n",
              "            + ' to learn more about interactive tables.';\n",
              "          element.innerHTML = '';\n",
              "          dataTable['output_type'] = 'display_data';\n",
              "          await google.colab.output.renderOutput(dataTable, element);\n",
              "          const docLink = document.createElement('div');\n",
              "          docLink.innerHTML = docLinkHtml;\n",
              "          element.appendChild(docLink);\n",
              "        }\n",
              "      </script>\n",
              "    </div>\n",
              "  </div>\n",
              "  "
            ]
          },
          "metadata": {},
          "execution_count": 51
        }
      ]
    },
    {
      "cell_type": "code",
      "source": [],
      "metadata": {
        "id": "vrIsoR1vFx7V"
      },
      "id": "vrIsoR1vFx7V",
      "execution_count": null,
      "outputs": []
    }
  ],
  "metadata": {
    "kernelspec": {
      "display_name": "Python 3 (ipykernel)",
      "language": "python",
      "name": "python3"
    },
    "language_info": {
      "codemirror_mode": {
        "name": "ipython",
        "version": 3
      },
      "file_extension": ".py",
      "mimetype": "text/x-python",
      "name": "python",
      "nbconvert_exporter": "python",
      "pygments_lexer": "ipython3",
      "version": "3.9.13"
    },
    "colab": {
      "provenance": []
    },
    "accelerator": "GPU",
    "gpuClass": "standard"
  },
  "nbformat": 4,
  "nbformat_minor": 5
}