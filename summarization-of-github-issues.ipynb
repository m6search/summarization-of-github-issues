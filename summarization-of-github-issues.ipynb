{
 "cells": [
  {
   "cell_type": "code",
   "execution_count": 1,
   "id": "d09b3b18",
   "metadata": {},
   "outputs": [],
   "source": [
    "import pandas as pd\n",
    "import os"
   ]
  },
  {
   "cell_type": "code",
   "execution_count": 4,
   "id": "bd0e7f08",
   "metadata": {},
   "outputs": [],
   "source": [
    "path = '/Users/moldirkoishybayeva/data/raw_922730issues_reponobodytitle.json'"
   ]
  },
  {
   "cell_type": "code",
   "execution_count": 5,
   "id": "5fd3cf38",
   "metadata": {},
   "outputs": [],
   "source": [
    "df = pd.read_json(path)"
   ]
  },
  {
   "cell_type": "code",
   "execution_count": 6,
   "id": "5df9484b",
   "metadata": {},
   "outputs": [
    {
     "data": {
      "text/html": [
       "<div>\n",
       "<style scoped>\n",
       "    .dataframe tbody tr th:only-of-type {\n",
       "        vertical-align: middle;\n",
       "    }\n",
       "\n",
       "    .dataframe tbody tr th {\n",
       "        vertical-align: top;\n",
       "    }\n",
       "\n",
       "    .dataframe thead th {\n",
       "        text-align: right;\n",
       "    }\n",
       "</style>\n",
       "<table border=\"1\" class=\"dataframe\">\n",
       "  <thead>\n",
       "    <tr style=\"text-align: right;\">\n",
       "      <th></th>\n",
       "      <th>number</th>\n",
       "      <th>title</th>\n",
       "      <th>body</th>\n",
       "      <th>repo</th>\n",
       "    </tr>\n",
       "  </thead>\n",
       "  <tbody>\n",
       "    <tr>\n",
       "      <th>0</th>\n",
       "      <td>35557</td>\n",
       "      <td>Add test to disallow extra characters in Appli...</td>\n",
       "      <td>In the challenge [Applied Accessibility: Stand...</td>\n",
       "      <td>freeCodeCamp/freeCodeCamp</td>\n",
       "    </tr>\n",
       "    <tr>\n",
       "      <th>1</th>\n",
       "      <td>14968</td>\n",
       "      <td>Running pytorch 1.0.0 on aws lambda</td>\n",
       "      <td>## ❓ Questions and Help\\r\\n\\r\\nHello,\\r\\n\\r\\nI...</td>\n",
       "      <td>pytorch/pytorch</td>\n",
       "    </tr>\n",
       "    <tr>\n",
       "      <th>2</th>\n",
       "      <td>18448</td>\n",
       "      <td>Uncaught TypeError: Cannot read property 'endI...</td>\n",
       "      <td>[Enter steps to reproduce:]\\r\\n\\r\\n1. ...\\r\\n2...</td>\n",
       "      <td>atom/atom</td>\n",
       "    </tr>\n",
       "    <tr>\n",
       "      <th>3</th>\n",
       "      <td>37086</td>\n",
       "      <td>Ability to enable/disable replication controller</td>\n",
       "      <td>At present there isn't any way to temporarily ...</td>\n",
       "      <td>kubernetes/kubernetes</td>\n",
       "    </tr>\n",
       "    <tr>\n",
       "      <th>4</th>\n",
       "      <td>5531</td>\n",
       "      <td>[gatsby-plugin-sharp] Support Default Configur...</td>\n",
       "      <td>## Summary\\r\\n\\r\\nAt present there is no way t...</td>\n",
       "      <td>gatsbyjs/gatsby</td>\n",
       "    </tr>\n",
       "  </tbody>\n",
       "</table>\n",
       "</div>"
      ],
      "text/plain": [
       "   number                                              title  \\\n",
       "0   35557  Add test to disallow extra characters in Appli...   \n",
       "1   14968                Running pytorch 1.0.0 on aws lambda   \n",
       "2   18448  Uncaught TypeError: Cannot read property 'endI...   \n",
       "3   37086   Ability to enable/disable replication controller   \n",
       "4    5531  [gatsby-plugin-sharp] Support Default Configur...   \n",
       "\n",
       "                                                body  \\\n",
       "0  In the challenge [Applied Accessibility: Stand...   \n",
       "1  ## ❓ Questions and Help\\r\\n\\r\\nHello,\\r\\n\\r\\nI...   \n",
       "2  [Enter steps to reproduce:]\\r\\n\\r\\n1. ...\\r\\n2...   \n",
       "3  At present there isn't any way to temporarily ...   \n",
       "4  ## Summary\\r\\n\\r\\nAt present there is no way t...   \n",
       "\n",
       "                        repo  \n",
       "0  freeCodeCamp/freeCodeCamp  \n",
       "1            pytorch/pytorch  \n",
       "2                  atom/atom  \n",
       "3      kubernetes/kubernetes  \n",
       "4            gatsbyjs/gatsby  "
      ]
     },
     "execution_count": 6,
     "metadata": {},
     "output_type": "execute_result"
    }
   ],
   "source": [
    "df.head()"
   ]
  },
  {
   "cell_type": "code",
   "execution_count": 8,
   "id": "1a008835",
   "metadata": {},
   "outputs": [
    {
     "data": {
      "text/plain": [
       "(922730, 4)"
      ]
     },
     "execution_count": 8,
     "metadata": {},
     "output_type": "execute_result"
    }
   ],
   "source": [
    "df.shape"
   ]
  },
  {
   "cell_type": "code",
   "execution_count": null,
   "id": "ab6ddc04",
   "metadata": {},
   "outputs": [],
   "source": []
  }
 ],
 "metadata": {
  "kernelspec": {
   "display_name": "Python 3 (ipykernel)",
   "language": "python",
   "name": "python3"
  },
  "language_info": {
   "codemirror_mode": {
    "name": "ipython",
    "version": 3
   },
   "file_extension": ".py",
   "mimetype": "text/x-python",
   "name": "python",
   "nbconvert_exporter": "python",
   "pygments_lexer": "ipython3",
   "version": "3.9.13"
  }
 },
 "nbformat": 4,
 "nbformat_minor": 5
}
